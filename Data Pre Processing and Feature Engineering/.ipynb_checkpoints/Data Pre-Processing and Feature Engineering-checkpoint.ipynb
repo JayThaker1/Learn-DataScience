{
 "cells": [
  {
   "cell_type": "markdown",
   "id": "3542d866",
   "metadata": {},
   "source": [
    "## Data Pre-Processing\n",
    "- What is Data Pre- Processing?\n",
    "- Why is Data Pre-Processing important?\n",
    "- Techniques involved.\n",
    "- Data Cleaning.\n",
    "- Data Integration.\n",
    "- Data Reduction.\n",
    "- Data Transformation.\n",
    "- Data Discretization.(Binning, Histogram, Cluster, Decision Tree, Correlation)\n",
    "- Pre-requisites."
   ]
  },
  {
   "cell_type": "markdown",
   "id": "309b3aed",
   "metadata": {},
   "source": [
    "### What is Data Cleaning?\n",
    "Data cleaning is filling the missing values, smooth out noice while identifying outliers and corrrect inconsistencies in the data."
   ]
  },
  {
   "cell_type": "markdown",
   "id": "ebee5aca",
   "metadata": {},
   "source": [
    "### Prerequisites for Data Preprocessing :\n",
    "#### Python Libraries:\n",
    "- Numpy\n",
    "- Pandas\n",
    "- Matplotlib\n",
    "- Seaborn\n",
    "- Scikit Learn\n",
    "\n",
    "#### Mathematics:\n",
    "- Statstics\n",
    "- Probability\n",
    "- Calculus\n",
    "- Linear Algebra\n",
    "\n",
    "#### Software Requirements:\n",
    "- Anaconda\n",
    "- Jupyter Notebook\n",
    "- Spyder"
   ]
  },
  {
   "cell_type": "markdown",
   "id": "49da67e4",
   "metadata": {},
   "source": [
    "### What is Feature Engineering?\n",
    "Feature Enginnering is a process to create feature/extract the feature from existing features by domain knowledge to increasing the perfomance of Machine Learning Model. Feature Engineering is carried out after Data Pre-processing."
   ]
  },
  {
   "cell_type": "markdown",
   "id": "2e1862bd",
   "metadata": {},
   "source": [
    "#### Process of Feature Engineering:\n",
    "- Brainstorming or Testing Features.\n",
    "- Deciding what features to create.\n",
    "- Creating features.\n",
    "- Checking how features work with the model\n",
    "- Improving your features, if needed.\n",
    "- Go back to brainstorming/ creating more features until the work is done."
   ]
  },
  {
   "cell_type": "markdown",
   "id": "7570a721",
   "metadata": {},
   "source": [
    "## Variables:\n",
    "### Types of Variables:\n",
    "- Numerical\n",
    "    - Discrete (integer eg. Age)\n",
    "    - Continuous (float eg. Weight)\n",
    "    \n",
    "- Catagorical\n",
    "    - Ordinal (in order eg. Days, Months, Quality, Grade)\n",
    "    - Nominal (no order eg. Color, Name, Product, Language)\n",
    "\n",
    "- Date & Time\n",
    "\n",
    "- Mixed (Numerical & Catagorical)"
   ]
  }
 ],
 "metadata": {
  "kernelspec": {
   "display_name": "Python 3 (ipykernel)",
   "language": "python",
   "name": "python3"
  },
  "language_info": {
   "codemirror_mode": {
    "name": "ipython",
    "version": 3
   },
   "file_extension": ".py",
   "mimetype": "text/x-python",
   "name": "python",
   "nbconvert_exporter": "python",
   "pygments_lexer": "ipython3",
   "version": "3.9.13"
  }
 },
 "nbformat": 4,
 "nbformat_minor": 5
}
