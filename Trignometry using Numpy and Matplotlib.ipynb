{
 "cells": [
  {
   "cell_type": "markdown",
   "metadata": {},
   "source": [
    "# Python Numpy Tutorial\n",
    "Find Trignometry sin(), cos(), tan() using Numpy Trignometry Functions"
   ]
  },
  {
   "cell_type": "code",
   "execution_count": null,
   "metadata": {},
   "outputs": [],
   "source": [
    "import numpy as np"
   ]
  }
 ],
 "metadata": {
  "kernelspec": {
   "display_name": "Python 3.10.6 ('Learn_DS': venv)",
   "language": "python",
   "name": "python3"
  },
  "language_info": {
   "name": "python",
   "version": "3.10.6"
  },
  "orig_nbformat": 4,
  "vscode": {
   "interpreter": {
    "hash": "46bc66f4105c92ece3e37dbb2d2edf45cbb9cf2efd37bfeaa965cd92190c1c89"
   }
  }
 },
 "nbformat": 4,
 "nbformat_minor": 2
}
